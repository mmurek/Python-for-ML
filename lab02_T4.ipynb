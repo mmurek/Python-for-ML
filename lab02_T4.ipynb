{
  "nbformat": 4,
  "nbformat_minor": 0,
  "metadata": {
    "colab": {
      "provenance": [],
      "authorship_tag": "ABX9TyOg6xshqsU5iSlALxoK9OX3",
      "include_colab_link": true
    },
    "kernelspec": {
      "name": "python3",
      "display_name": "Python 3"
    },
    "language_info": {
      "name": "python"
    }
  },
  "cells": [
    {
      "cell_type": "markdown",
      "metadata": {
        "id": "view-in-github",
        "colab_type": "text"
      },
      "source": [
        "<a href=\"https://colab.research.google.com/github/mmurek/Python-for-ML/blob/master/lab02_T4.ipynb\" target=\"_parent\"><img src=\"https://colab.research.google.com/assets/colab-badge.svg\" alt=\"Open In Colab\"/></a>"
      ]
    },
    {
      "cell_type": "code",
      "execution_count": null,
      "metadata": {
        "id": "HkWWeSywYABN"
      },
      "outputs": [],
      "source": [
        "def celebrate():\n",
        "\n",
        "  return\n",
        "\n",
        "  if True:\n",
        "    celebrate()"
      ]
    },
    {
      "cell_type": "code",
      "source": [],
      "metadata": {
        "id": "air-Iu8tY3pG"
      },
      "execution_count": null,
      "outputs": []
    }
  ]
}