{
  "nbformat": 4,
  "nbformat_minor": 0,
  "metadata": {
    "colab": {
      "provenance": [],
      "authorship_tag": "ABX9TyOCf8j+ZTDS9094MtflowfK",
      "include_colab_link": true
    },
    "kernelspec": {
      "name": "python3",
      "display_name": "Python 3"
    },
    "language_info": {
      "name": "python"
    }
  },
  "cells": [
    {
      "cell_type": "markdown",
      "metadata": {
        "id": "view-in-github",
        "colab_type": "text"
      },
      "source": [
        "<a href=\"https://colab.research.google.com/github/mmurek/Python-for-ML/blob/while_variant/lab02_T2.ipynb\" target=\"_parent\"><img src=\"https://colab.research.google.com/assets/colab-badge.svg\" alt=\"Open In Colab\"/></a>"
      ]
    },
    {
      "cell_type": "code",
      "execution_count": 2,
      "metadata": {
        "colab": {
          "base_uri": "https://localhost:8080/"
        },
        "id": "M7d-JlUSMBtt",
        "outputId": "1a00f01c-8307-4b88-c8ba-9c12fe3f1504"
      },
      "outputs": [
        {
          "output_type": "stream",
          "name": "stdout",
          "text": [
            "a\n",
            "b\n",
            "c\n",
            "d\n"
          ]
        }
      ],
      "source": [
        "list = ['a', 'b', 'c', 'd']\n",
        "\n",
        "for element in list:\n",
        "  print(element)"
      ]
    },
    {
      "cell_type": "code",
      "source": [
        "e\n",
        "f\n",
        "g\n",
        "h"
      ],
      "metadata": {
        "id": "lVheTrraMmCM"
      },
      "execution_count": null,
      "outputs": []
    }
  ]
}