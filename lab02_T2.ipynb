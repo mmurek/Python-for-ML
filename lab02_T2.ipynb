{
  "nbformat": 4,
  "nbformat_minor": 0,
  "metadata": {
    "colab": {
      "provenance": [],
      "authorship_tag": "ABX9TyOJ6yTJAtZC+mM87qLnJ56O",
      "include_colab_link": true
    },
    "kernelspec": {
      "name": "python3",
      "display_name": "Python 3"
    },
    "language_info": {
      "name": "python"
    }
  },
  "cells": [
    {
      "cell_type": "markdown",
      "metadata": {
        "id": "view-in-github",
        "colab_type": "text"
      },
      "source": [
        "<a href=\"https://colab.research.google.com/github/mmurek/Python-for-ML/blob/for_variant/lab02_T2.ipynb\" target=\"_parent\"><img src=\"https://colab.research.google.com/assets/colab-badge.svg\" alt=\"Open In Colab\"/></a>"
      ]
    },
    {
      "cell_type": "code",
      "execution_count": 2,
      "metadata": {
        "colab": {
          "base_uri": "https://localhost:8080/"
        },
        "id": "M7d-JlUSMBtt",
        "outputId": "1a00f01c-8307-4b88-c8ba-9c12fe3f1504"
      },
      "outputs": [
        {
          "output_type": "stream",
          "name": "stdout",
          "text": [
            "a\n",
            "b\n",
            "c\n",
            "d\n"
          ]
        }
      ],
      "source": [
        "list = ['a', 'b', 'c', 'd']\n",
        "\n",
        "for element in list:\n",
        "  print(element)"
      ]
    },
    {
      "cell_type": "code",
      "source": [
        "a\n",
        "b\n",
        "c\n",
        "d"
      ],
      "metadata": {
        "id": "lVheTrraMmCM"
      },
      "execution_count": null,
      "outputs": []
    }
  ]
}